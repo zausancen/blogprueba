{
  "nbformat": 4,
  "nbformat_minor": 0,
  "metadata": {
    "colab": {
      "name": "regresión lineal.ipynb",
      "provenance": [],
      "authorship_tag": "ABX9TyO90eu5qxRkBb8oCR+0uNr2",
      "include_colab_link": true
    },
    "kernelspec": {
      "name": "python3",
      "display_name": "Python 3"
    },
    "language_info": {
      "name": "python"
    }
  },
  "cells": [
    {
      "cell_type": "markdown",
      "metadata": {
        "id": "view-in-github",
        "colab_type": "text"
      },
      "source": [
        "<a href=\"https://colab.research.google.com/github/zausancen/blogprueba/blob/main/regresi%C3%B3n_lineal.ipynb\" target=\"_parent\"><img src=\"https://colab.research.google.com/assets/colab-badge.svg\" alt=\"Open In Colab\"/></a>"
      ]
    },
    {
      "cell_type": "code",
      "metadata": {
        "id": "85O38v71KZym"
      },
      "source": [
        "import numpy as np\n",
        "import matplotlib.pyplot as plt"
      ],
      "execution_count": 9,
      "outputs": []
    },
    {
      "cell_type": "code",
      "metadata": {
        "id": "oTUtujilKuBK"
      },
      "source": [
        "def estimate_b0_b1(x,y):\n",
        "    n = np.size(x)\n",
        "    #Obteniendo los promedios de X y de Y\n",
        "    m_x, m_y = np.mean(x), np.mean(y)\n",
        "\n",
        "    #Calcular la sumatoria de xx y xy\n",
        "    sumatoria_xy = np.sum((x-m_x)*(y-m_y))\n",
        "    sumatoria_xx = np.sum((x-m_x)**2)\n",
        "\n",
        "    #coeficientes de regresion\n",
        "    b_1 = sumatoria_xy/sumatoria_xx\n",
        "    b_0 = m_y - b_1*m_x\n",
        "    return (b_0,b_1)\n",
        "\n",
        "def plot_regression(x, y, b):\n",
        "    plt.scatter(x,y,color = \"g\",marker = \"o\", s=30)\n",
        "    y_pred = b[0]+b[1]*x\n",
        "    plt.plot(x,y_pred, color = \"b\")\n",
        "    \n",
        "    #etiquetado \n",
        "    plt.xlabel('x-independiente')\n",
        "    plt.ylabel('y-Dependiente')\n",
        "\n",
        "    plt.show()"
      ],
      "execution_count": 10,
      "outputs": []
    },
    {
      "cell_type": "code",
      "metadata": {
        "colab": {
          "base_uri": "https://localhost:8080/",
          "height": 296
        },
        "id": "zblCU5pmS25r",
        "outputId": "2cc0795a-4ace-4344-b52c-9dbb9cd61d59"
      },
      "source": [
        "#codigo Main\n",
        "def main():\n",
        "    x = np.array([1,2,3,4,5])\n",
        "    y = np.array([2,3,5,6,5])\n",
        "    b = estimate_b0_b1(x,y)\n",
        "    print(\"Los valores de b0 = {}, b1 = {}\".format(*b))\n",
        "    plot_regression(x,y,b)\n",
        "\n",
        "if __name__ == \"__main__\":\n",
        "    main()"
      ],
      "execution_count": 19,
      "outputs": [
        {
          "output_type": "stream",
          "text": [
            "Los valores de b0 = 1.5, b1 = 0.9\n"
          ],
          "name": "stdout"
        },
        {
          "output_type": "display_data",
          "data": {
            "image/png": "[encoded data removed]",
            "text/plain": [
              "<Figure size 432x288 with 1 Axes>"
            ]
          },
          "metadata": {
            "needs_background": "light"
          }
        }
      ]
    }
  ]
}